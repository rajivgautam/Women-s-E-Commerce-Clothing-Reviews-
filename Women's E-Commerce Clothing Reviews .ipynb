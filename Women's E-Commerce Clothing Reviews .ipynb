{
 "cells": [
  {
   "cell_type": "markdown",
   "metadata": {},
   "source": [
    "## Women's E-Commerce Clothing Reviews "
   ]
  },
  {
   "cell_type": "code",
   "execution_count": 2,
   "metadata": {},
   "outputs": [],
   "source": [
    "import pandas as pd\n",
    "import numpy as np\n",
    "import matplotlib.pyplot as plt\n",
    "import seaborn as sns\n",
    "\n",
    "%matplotlib inline"
   ]
  },
  {
   "cell_type": "markdown",
   "metadata": {},
   "source": [
    "<b> <p>1. Read the Womens Clothing E-Commerce Reviews.csv file and set it as a Dataframe called clothing_reviews. Check the head, info, and describe methods on the Dataframe </p>"
   ]
  },
  {
   "cell_type": "code",
   "execution_count": 2,
   "metadata": {},
   "outputs": [
    {
     "data": {
      "text/html": [
       "<div>\n",
       "<style scoped>\n",
       "    .dataframe tbody tr th:only-of-type {\n",
       "        vertical-align: middle;\n",
       "    }\n",
       "\n",
       "    .dataframe tbody tr th {\n",
       "        vertical-align: top;\n",
       "    }\n",
       "\n",
       "    .dataframe thead th {\n",
       "        text-align: right;\n",
       "    }\n",
       "</style>\n",
       "<table border=\"1\" class=\"dataframe\">\n",
       "  <thead>\n",
       "    <tr style=\"text-align: right;\">\n",
       "      <th></th>\n",
       "      <th>Unnamed: 0</th>\n",
       "      <th>Clothing ID</th>\n",
       "      <th>Age</th>\n",
       "      <th>Title</th>\n",
       "      <th>Review Text</th>\n",
       "      <th>Rating</th>\n",
       "      <th>Recommended IND</th>\n",
       "      <th>Positive Feedback Count</th>\n",
       "      <th>Division Name</th>\n",
       "      <th>Department Name</th>\n",
       "      <th>Class Name</th>\n",
       "    </tr>\n",
       "  </thead>\n",
       "  <tbody>\n",
       "    <tr>\n",
       "      <th>0</th>\n",
       "      <td>0</td>\n",
       "      <td>767</td>\n",
       "      <td>33</td>\n",
       "      <td>NaN</td>\n",
       "      <td>Absolutely wonderful - silky and sexy and comf...</td>\n",
       "      <td>4</td>\n",
       "      <td>1</td>\n",
       "      <td>0</td>\n",
       "      <td>Initmates</td>\n",
       "      <td>Intimate</td>\n",
       "      <td>Intimates</td>\n",
       "    </tr>\n",
       "    <tr>\n",
       "      <th>1</th>\n",
       "      <td>1</td>\n",
       "      <td>1080</td>\n",
       "      <td>34</td>\n",
       "      <td>NaN</td>\n",
       "      <td>Love this dress!  it's sooo pretty.  i happene...</td>\n",
       "      <td>5</td>\n",
       "      <td>1</td>\n",
       "      <td>4</td>\n",
       "      <td>General</td>\n",
       "      <td>Dresses</td>\n",
       "      <td>Dresses</td>\n",
       "    </tr>\n",
       "    <tr>\n",
       "      <th>2</th>\n",
       "      <td>2</td>\n",
       "      <td>1077</td>\n",
       "      <td>60</td>\n",
       "      <td>Some major design flaws</td>\n",
       "      <td>I had such high hopes for this dress and reall...</td>\n",
       "      <td>3</td>\n",
       "      <td>0</td>\n",
       "      <td>0</td>\n",
       "      <td>General</td>\n",
       "      <td>Dresses</td>\n",
       "      <td>Dresses</td>\n",
       "    </tr>\n",
       "    <tr>\n",
       "      <th>3</th>\n",
       "      <td>3</td>\n",
       "      <td>1049</td>\n",
       "      <td>50</td>\n",
       "      <td>My favorite buy!</td>\n",
       "      <td>I love, love, love this jumpsuit. it's fun, fl...</td>\n",
       "      <td>5</td>\n",
       "      <td>1</td>\n",
       "      <td>0</td>\n",
       "      <td>General Petite</td>\n",
       "      <td>Bottoms</td>\n",
       "      <td>Pants</td>\n",
       "    </tr>\n",
       "    <tr>\n",
       "      <th>4</th>\n",
       "      <td>4</td>\n",
       "      <td>847</td>\n",
       "      <td>47</td>\n",
       "      <td>Flattering shirt</td>\n",
       "      <td>This shirt is very flattering to all due to th...</td>\n",
       "      <td>5</td>\n",
       "      <td>1</td>\n",
       "      <td>6</td>\n",
       "      <td>General</td>\n",
       "      <td>Tops</td>\n",
       "      <td>Blouses</td>\n",
       "    </tr>\n",
       "  </tbody>\n",
       "</table>\n",
       "</div>"
      ],
      "text/plain": [
       "   Unnamed: 0  Clothing ID  Age                    Title  \\\n",
       "0           0          767   33                      NaN   \n",
       "1           1         1080   34                      NaN   \n",
       "2           2         1077   60  Some major design flaws   \n",
       "3           3         1049   50         My favorite buy!   \n",
       "4           4          847   47         Flattering shirt   \n",
       "\n",
       "                                         Review Text  Rating  Recommended IND  \\\n",
       "0  Absolutely wonderful - silky and sexy and comf...       4                1   \n",
       "1  Love this dress!  it's sooo pretty.  i happene...       5                1   \n",
       "2  I had such high hopes for this dress and reall...       3                0   \n",
       "3  I love, love, love this jumpsuit. it's fun, fl...       5                1   \n",
       "4  This shirt is very flattering to all due to th...       5                1   \n",
       "\n",
       "   Positive Feedback Count   Division Name Department Name Class Name  \n",
       "0                        0       Initmates        Intimate  Intimates  \n",
       "1                        4         General         Dresses    Dresses  \n",
       "2                        0         General         Dresses    Dresses  \n",
       "3                        0  General Petite         Bottoms      Pants  \n",
       "4                        6         General            Tops    Blouses  "
      ]
     },
     "execution_count": 2,
     "metadata": {},
     "output_type": "execute_result"
    }
   ],
   "source": [
    "clothing_reviews = pd.read_csv(\"Womens Clothing E-Commerce Reviews.csv\")\n",
    "clothing_reviews.head()"
   ]
  },
  {
   "cell_type": "code",
   "execution_count": 3,
   "metadata": {},
   "outputs": [
    {
     "name": "stdout",
     "output_type": "stream",
     "text": [
      "<class 'pandas.core.frame.DataFrame'>\n",
      "RangeIndex: 23486 entries, 0 to 23485\n",
      "Data columns (total 11 columns):\n",
      " #   Column                   Non-Null Count  Dtype \n",
      "---  ------                   --------------  ----- \n",
      " 0   Unnamed: 0               23486 non-null  int64 \n",
      " 1   Clothing ID              23486 non-null  int64 \n",
      " 2   Age                      23486 non-null  int64 \n",
      " 3   Title                    19676 non-null  object\n",
      " 4   Review Text              22641 non-null  object\n",
      " 5   Rating                   23486 non-null  int64 \n",
      " 6   Recommended IND          23486 non-null  int64 \n",
      " 7   Positive Feedback Count  23486 non-null  int64 \n",
      " 8   Division Name            23472 non-null  object\n",
      " 9   Department Name          23472 non-null  object\n",
      " 10  Class Name               23472 non-null  object\n",
      "dtypes: int64(6), object(5)\n",
      "memory usage: 2.0+ MB\n"
     ]
    }
   ],
   "source": [
    "clothing_reviews.info()"
   ]
  },
  {
   "cell_type": "code",
   "execution_count": 4,
   "metadata": {},
   "outputs": [
    {
     "data": {
      "text/html": [
       "<div>\n",
       "<style scoped>\n",
       "    .dataframe tbody tr th:only-of-type {\n",
       "        vertical-align: middle;\n",
       "    }\n",
       "\n",
       "    .dataframe tbody tr th {\n",
       "        vertical-align: top;\n",
       "    }\n",
       "\n",
       "    .dataframe thead th {\n",
       "        text-align: right;\n",
       "    }\n",
       "</style>\n",
       "<table border=\"1\" class=\"dataframe\">\n",
       "  <thead>\n",
       "    <tr style=\"text-align: right;\">\n",
       "      <th></th>\n",
       "      <th>Unnamed: 0</th>\n",
       "      <th>Clothing ID</th>\n",
       "      <th>Age</th>\n",
       "      <th>Rating</th>\n",
       "      <th>Recommended IND</th>\n",
       "      <th>Positive Feedback Count</th>\n",
       "    </tr>\n",
       "  </thead>\n",
       "  <tbody>\n",
       "    <tr>\n",
       "      <th>count</th>\n",
       "      <td>23486.000000</td>\n",
       "      <td>23486.000000</td>\n",
       "      <td>23486.000000</td>\n",
       "      <td>23486.000000</td>\n",
       "      <td>23486.000000</td>\n",
       "      <td>23486.000000</td>\n",
       "    </tr>\n",
       "    <tr>\n",
       "      <th>mean</th>\n",
       "      <td>11742.500000</td>\n",
       "      <td>918.118709</td>\n",
       "      <td>43.198544</td>\n",
       "      <td>4.196032</td>\n",
       "      <td>0.822362</td>\n",
       "      <td>2.535936</td>\n",
       "    </tr>\n",
       "    <tr>\n",
       "      <th>std</th>\n",
       "      <td>6779.968547</td>\n",
       "      <td>203.298980</td>\n",
       "      <td>12.279544</td>\n",
       "      <td>1.110031</td>\n",
       "      <td>0.382216</td>\n",
       "      <td>5.702202</td>\n",
       "    </tr>\n",
       "    <tr>\n",
       "      <th>min</th>\n",
       "      <td>0.000000</td>\n",
       "      <td>0.000000</td>\n",
       "      <td>18.000000</td>\n",
       "      <td>1.000000</td>\n",
       "      <td>0.000000</td>\n",
       "      <td>0.000000</td>\n",
       "    </tr>\n",
       "    <tr>\n",
       "      <th>25%</th>\n",
       "      <td>5871.250000</td>\n",
       "      <td>861.000000</td>\n",
       "      <td>34.000000</td>\n",
       "      <td>4.000000</td>\n",
       "      <td>1.000000</td>\n",
       "      <td>0.000000</td>\n",
       "    </tr>\n",
       "    <tr>\n",
       "      <th>50%</th>\n",
       "      <td>11742.500000</td>\n",
       "      <td>936.000000</td>\n",
       "      <td>41.000000</td>\n",
       "      <td>5.000000</td>\n",
       "      <td>1.000000</td>\n",
       "      <td>1.000000</td>\n",
       "    </tr>\n",
       "    <tr>\n",
       "      <th>75%</th>\n",
       "      <td>17613.750000</td>\n",
       "      <td>1078.000000</td>\n",
       "      <td>52.000000</td>\n",
       "      <td>5.000000</td>\n",
       "      <td>1.000000</td>\n",
       "      <td>3.000000</td>\n",
       "    </tr>\n",
       "    <tr>\n",
       "      <th>max</th>\n",
       "      <td>23485.000000</td>\n",
       "      <td>1205.000000</td>\n",
       "      <td>99.000000</td>\n",
       "      <td>5.000000</td>\n",
       "      <td>1.000000</td>\n",
       "      <td>122.000000</td>\n",
       "    </tr>\n",
       "  </tbody>\n",
       "</table>\n",
       "</div>"
      ],
      "text/plain": [
       "         Unnamed: 0   Clothing ID           Age        Rating  \\\n",
       "count  23486.000000  23486.000000  23486.000000  23486.000000   \n",
       "mean   11742.500000    918.118709     43.198544      4.196032   \n",
       "std     6779.968547    203.298980     12.279544      1.110031   \n",
       "min        0.000000      0.000000     18.000000      1.000000   \n",
       "25%     5871.250000    861.000000     34.000000      4.000000   \n",
       "50%    11742.500000    936.000000     41.000000      5.000000   \n",
       "75%    17613.750000   1078.000000     52.000000      5.000000   \n",
       "max    23485.000000   1205.000000     99.000000      5.000000   \n",
       "\n",
       "       Recommended IND  Positive Feedback Count  \n",
       "count     23486.000000             23486.000000  \n",
       "mean          0.822362                 2.535936  \n",
       "std           0.382216                 5.702202  \n",
       "min           0.000000                 0.000000  \n",
       "25%           1.000000                 0.000000  \n",
       "50%           1.000000                 1.000000  \n",
       "75%           1.000000                 3.000000  \n",
       "max           1.000000               122.000000  "
      ]
     },
     "execution_count": 4,
     "metadata": {},
     "output_type": "execute_result"
    }
   ],
   "source": [
    "clothing_reviews.describe()"
   ]
  },
  {
   "cell_type": "markdown",
   "metadata": {},
   "source": [
    "<b>2. Remove punctuations and stopwords from the text in ‘text’ column"
   ]
  },
  {
   "cell_type": "code",
   "execution_count": 5,
   "metadata": {},
   "outputs": [],
   "source": [
    "# Apply NLTK word tokenization\n",
    "from nltk import word_tokenize\n",
    "from nltk.corpus import stopwords\n"
   ]
  },
  {
   "cell_type": "code",
   "execution_count": 6,
   "metadata": {},
   "outputs": [],
   "source": [
    "#print(len(clothing_reviews))\n",
    "clothing_reviews.drop_duplicates(inplace=True)\n",
    "clothing_reviews.dropna(subset=['Review Text', 'Rating'],inplace=True)\n",
    "clothing_reviews = clothing_reviews.reset_index()\n",
    "review_text = clothing_reviews['Review Text']\n",
    "#print(len(clothing_reviews))"
   ]
  },
  {
   "cell_type": "code",
   "execution_count": 7,
   "metadata": {},
   "outputs": [
    {
     "name": "stdout",
     "output_type": "stream",
     "text": [
      "0        [Absolutely, wonderful, -, silky, and, sexy, a...\n",
      "1        [Love, this, dress, !, it, 's, sooo, pretty, ....\n",
      "2        [I, had, such, high, hopes, for, this, dress, ...\n",
      "3        [I, love, ,, love, ,, love, this, jumpsuit, .,...\n",
      "4        [This, shirt, is, very, flattering, to, all, d...\n",
      "                               ...                        \n",
      "22636    [I, was, very, happy, to, snag, this, dress, a...\n",
      "22637    [It, reminds, me, of, maternity, clothes, ., s...\n",
      "22638    [This, fit, well, ,, but, the, top, was, very,...\n",
      "22639    [I, bought, this, dress, for, a, wedding, i, h...\n",
      "22640    [This, dress, in, a, lovely, platinum, is, fem...\n",
      "Name: Review Text, Length: 22641, dtype: object\n"
     ]
    }
   ],
   "source": [
    "texts_token = review_text.apply(word_tokenize)\n",
    "print(texts_token)"
   ]
  },
  {
   "cell_type": "code",
   "execution_count": 8,
   "metadata": {},
   "outputs": [],
   "source": [
    "# Remove punctuations and stopwords from the text in ‘text’ column \n",
    "\n",
    "tokens_lower = [[token.lower() for token in tokens if token.isalpha()] for tokens in texts_token]\n",
    "#print(tokens_lower[1:3])\n",
    "\n",
    "stop_words = stopwords.words('english')\n",
    "#print(stop_words)\n",
    "terms = [[word for word in words if not word in stop_words] for words in tokens_lower ]\n"
   ]
  },
  {
   "cell_type": "code",
   "execution_count": 9,
   "metadata": {},
   "outputs": [
    {
     "name": "stdout",
     "output_type": "stream",
     "text": [
      "Absolutely wonderful - silky and sexy and comfortable\n",
      "['absolutely', 'wonderful', 'silky', 'sexy', 'comfortable']\n"
     ]
    }
   ],
   "source": [
    "print(clothing_reviews['Review Text'][0])\n",
    "print(terms[0])"
   ]
  },
  {
   "cell_type": "markdown",
   "metadata": {},
   "source": [
    "<b>3. Create two objects X and y. X will be the ' Review Text ' column of clothing_reviews Dataframe and y will be the 'Rating' column. Create a CountVectorizer object and split the data into training and testing sets. Train a MultinomialNB model and Display the confusion Matrix."
   ]
  },
  {
   "cell_type": "code",
   "execution_count": 10,
   "metadata": {},
   "outputs": [],
   "source": [
    "from gensim.corpora.dictionary import Dictionary\n",
    "from sklearn.feature_extraction.text import CountVectorizer"
   ]
  },
  {
   "cell_type": "code",
   "execution_count": 11,
   "metadata": {},
   "outputs": [],
   "source": [
    "dict = Dictionary(terms)\n",
    "\n",
    "texts_without_stop_words_punctuations = [' '.join([str(word) for word in words]) for words in terms]\n",
    "clothing_reviews['Review Text'] = texts_without_stop_words_punctuations\n",
    "#print(texts_without_stop_words[0:10])\n",
    "#print(dict.token2id)\n",
    "#print(len(dict))\n",
    "#print(dict.cfs)\n",
    "#print(dict.dfs)\n",
    "#print(dict.num_pos)\n",
    "\n",
    "cv = CountVectorizer(vocabulary=dict.token2id, analyzer='word')\n",
    "\n",
    "count_vector = cv.fit_transform(texts_without_stop_words_punctuations)\n",
    "#print(count_vector.shape)\n",
    "#print(cv.vocabulary_)\n",
    "#print(cv.get_feature_names())\n",
    "#print(count_vector)\n",
    "#print(dict.get(26))"
   ]
  },
  {
   "cell_type": "code",
   "execution_count": 12,
   "metadata": {},
   "outputs": [
    {
     "data": {
      "text/plain": [
       "scipy.sparse.csr.csr_matrix"
      ]
     },
     "execution_count": 12,
     "metadata": {},
     "output_type": "execute_result"
    }
   ],
   "source": [
    "type(count_vector)"
   ]
  },
  {
   "cell_type": "code",
   "execution_count": 13,
   "metadata": {},
   "outputs": [
    {
     "data": {
      "text/html": [
       "<div>\n",
       "<style scoped>\n",
       "    .dataframe tbody tr th:only-of-type {\n",
       "        vertical-align: middle;\n",
       "    }\n",
       "\n",
       "    .dataframe tbody tr th {\n",
       "        vertical-align: top;\n",
       "    }\n",
       "\n",
       "    .dataframe thead th {\n",
       "        text-align: right;\n",
       "    }\n",
       "</style>\n",
       "<table border=\"1\" class=\"dataframe\">\n",
       "  <thead>\n",
       "    <tr style=\"text-align: right;\">\n",
       "      <th></th>\n",
       "      <th>absolutely</th>\n",
       "      <th>comfortable</th>\n",
       "      <th>sexy</th>\n",
       "      <th>silky</th>\n",
       "      <th>wonderful</th>\n",
       "      <th>bc</th>\n",
       "      <th>bought</th>\n",
       "      <th>definitely</th>\n",
       "      <th>dress</th>\n",
       "      <th>find</th>\n",
       "      <th>...</th>\n",
       "      <th>crosswrap</th>\n",
       "      <th>bett</th>\n",
       "      <th>linking</th>\n",
       "      <th>bottome</th>\n",
       "      <th>daker</th>\n",
       "      <th>peitte</th>\n",
       "      <th>population</th>\n",
       "      <th>camoflauges</th>\n",
       "      <th>blaring</th>\n",
       "      <th>platinum</th>\n",
       "    </tr>\n",
       "  </thead>\n",
       "  <tbody>\n",
       "    <tr>\n",
       "      <th>0</th>\n",
       "      <td>1</td>\n",
       "      <td>1</td>\n",
       "      <td>1</td>\n",
       "      <td>1</td>\n",
       "      <td>1</td>\n",
       "      <td>0</td>\n",
       "      <td>0</td>\n",
       "      <td>0</td>\n",
       "      <td>0</td>\n",
       "      <td>0</td>\n",
       "      <td>...</td>\n",
       "      <td>0</td>\n",
       "      <td>0</td>\n",
       "      <td>0</td>\n",
       "      <td>0</td>\n",
       "      <td>0</td>\n",
       "      <td>0</td>\n",
       "      <td>0</td>\n",
       "      <td>0</td>\n",
       "      <td>0</td>\n",
       "      <td>0</td>\n",
       "    </tr>\n",
       "    <tr>\n",
       "      <th>1</th>\n",
       "      <td>0</td>\n",
       "      <td>0</td>\n",
       "      <td>0</td>\n",
       "      <td>0</td>\n",
       "      <td>0</td>\n",
       "      <td>2</td>\n",
       "      <td>1</td>\n",
       "      <td>1</td>\n",
       "      <td>1</td>\n",
       "      <td>1</td>\n",
       "      <td>...</td>\n",
       "      <td>0</td>\n",
       "      <td>0</td>\n",
       "      <td>0</td>\n",
       "      <td>0</td>\n",
       "      <td>0</td>\n",
       "      <td>0</td>\n",
       "      <td>0</td>\n",
       "      <td>0</td>\n",
       "      <td>0</td>\n",
       "      <td>0</td>\n",
       "    </tr>\n",
       "    <tr>\n",
       "      <th>2</th>\n",
       "      <td>0</td>\n",
       "      <td>1</td>\n",
       "      <td>0</td>\n",
       "      <td>0</td>\n",
       "      <td>0</td>\n",
       "      <td>0</td>\n",
       "      <td>0</td>\n",
       "      <td>0</td>\n",
       "      <td>1</td>\n",
       "      <td>0</td>\n",
       "      <td>...</td>\n",
       "      <td>0</td>\n",
       "      <td>0</td>\n",
       "      <td>0</td>\n",
       "      <td>0</td>\n",
       "      <td>0</td>\n",
       "      <td>0</td>\n",
       "      <td>0</td>\n",
       "      <td>0</td>\n",
       "      <td>0</td>\n",
       "      <td>0</td>\n",
       "    </tr>\n",
       "    <tr>\n",
       "      <th>3</th>\n",
       "      <td>0</td>\n",
       "      <td>0</td>\n",
       "      <td>0</td>\n",
       "      <td>0</td>\n",
       "      <td>0</td>\n",
       "      <td>0</td>\n",
       "      <td>0</td>\n",
       "      <td>0</td>\n",
       "      <td>0</td>\n",
       "      <td>0</td>\n",
       "      <td>...</td>\n",
       "      <td>0</td>\n",
       "      <td>0</td>\n",
       "      <td>0</td>\n",
       "      <td>0</td>\n",
       "      <td>0</td>\n",
       "      <td>0</td>\n",
       "      <td>0</td>\n",
       "      <td>0</td>\n",
       "      <td>0</td>\n",
       "      <td>0</td>\n",
       "    </tr>\n",
       "    <tr>\n",
       "      <th>4</th>\n",
       "      <td>0</td>\n",
       "      <td>0</td>\n",
       "      <td>0</td>\n",
       "      <td>0</td>\n",
       "      <td>0</td>\n",
       "      <td>0</td>\n",
       "      <td>0</td>\n",
       "      <td>0</td>\n",
       "      <td>0</td>\n",
       "      <td>0</td>\n",
       "      <td>...</td>\n",
       "      <td>0</td>\n",
       "      <td>0</td>\n",
       "      <td>0</td>\n",
       "      <td>0</td>\n",
       "      <td>0</td>\n",
       "      <td>0</td>\n",
       "      <td>0</td>\n",
       "      <td>0</td>\n",
       "      <td>0</td>\n",
       "      <td>0</td>\n",
       "    </tr>\n",
       "  </tbody>\n",
       "</table>\n",
       "<p>5 rows × 13208 columns</p>\n",
       "</div>"
      ],
      "text/plain": [
       "   absolutely  comfortable  sexy  silky  wonderful  bc  bought  definitely  \\\n",
       "0           1            1     1      1          1   0       0           0   \n",
       "1           0            0     0      0          0   2       1           1   \n",
       "2           0            1     0      0          0   0       0           0   \n",
       "3           0            0     0      0          0   0       0           0   \n",
       "4           0            0     0      0          0   0       0           0   \n",
       "\n",
       "   dress  find  ...  crosswrap  bett  linking  bottome  daker  peitte  \\\n",
       "0      0     0  ...          0     0        0        0      0       0   \n",
       "1      1     1  ...          0     0        0        0      0       0   \n",
       "2      1     0  ...          0     0        0        0      0       0   \n",
       "3      0     0  ...          0     0        0        0      0       0   \n",
       "4      0     0  ...          0     0        0        0      0       0   \n",
       "\n",
       "   population  camoflauges  blaring  platinum  \n",
       "0           0            0        0         0  \n",
       "1           0            0        0         0  \n",
       "2           0            0        0         0  \n",
       "3           0            0        0         0  \n",
       "4           0            0        0         0  \n",
       "\n",
       "[5 rows x 13208 columns]"
      ]
     },
     "execution_count": 13,
     "metadata": {},
     "output_type": "execute_result"
    }
   ],
   "source": [
    "pd.DataFrame(count_vector.toarray(), columns=cv.get_feature_names()).head()"
   ]
  },
  {
   "cell_type": "code",
   "execution_count": 14,
   "metadata": {},
   "outputs": [],
   "source": [
    "from sklearn.model_selection import train_test_split\n",
    "\n",
    "#print(df.info)\n",
    "X = clothing_reviews['Review Text']\n",
    "y = clothing_reviews['Rating']\n",
    "#print(X.shape)\n",
    "#print(y.shape)\n",
    "\n",
    "X_train, X_test, y_train, y_test = train_test_split(X, y, test_size=0.3, random_state=42, stratify=y)\n",
    "#print(X_train.shape)\n",
    "#print(X_test.shape)\n",
    "#print(y_train.shape)\n",
    "#print(y_test.shape)\n",
    "\n",
    "X_train_dtm = cv.fit_transform(X_train)\n",
    "X_test_dtm = cv.transform(X_test)"
   ]
  },
  {
   "cell_type": "code",
   "execution_count": 15,
   "metadata": {},
   "outputs": [],
   "source": [
    "# Train a MultinomialNB model and Display the confusion Matrix\n",
    "\n",
    "from sklearn.naive_bayes import MultinomialNB\n",
    "mnb = MultinomialNB()\n",
    "mnb.fit(X_train_dtm, y_train)\n",
    "y_pred_class = mnb.predict(X_test_dtm)"
   ]
  },
  {
   "cell_type": "code",
   "execution_count": 16,
   "metadata": {},
   "outputs": [
    {
     "data": {
      "text/plain": [
       "0.6175474753422641"
      ]
     },
     "execution_count": 16,
     "metadata": {},
     "output_type": "execute_result"
    }
   ],
   "source": [
    "#calculate accuracy of class predictions\n",
    "from sklearn import metrics\n",
    "metrics.accuracy_score(y_test, y_pred_class)"
   ]
  },
  {
   "cell_type": "code",
   "execution_count": 17,
   "metadata": {},
   "outputs": [
    {
     "data": {
      "text/plain": [
       "array([1, 2, 3, 4, 5], dtype=int64)"
      ]
     },
     "execution_count": 17,
     "metadata": {},
     "output_type": "execute_result"
    }
   ],
   "source": [
    "mnb.classes_"
   ]
  },
  {
   "cell_type": "code",
   "execution_count": 18,
   "metadata": {},
   "outputs": [
    {
     "data": {
      "text/html": [
       "<div>\n",
       "<style scoped>\n",
       "    .dataframe tbody tr th:only-of-type {\n",
       "        vertical-align: middle;\n",
       "    }\n",
       "\n",
       "    .dataframe tbody tr th {\n",
       "        vertical-align: top;\n",
       "    }\n",
       "\n",
       "    .dataframe thead th {\n",
       "        text-align: right;\n",
       "    }\n",
       "</style>\n",
       "<table border=\"1\" class=\"dataframe\">\n",
       "  <thead>\n",
       "    <tr style=\"text-align: right;\">\n",
       "      <th>Predicted</th>\n",
       "      <th>1</th>\n",
       "      <th>2</th>\n",
       "      <th>3</th>\n",
       "      <th>4</th>\n",
       "      <th>5</th>\n",
       "    </tr>\n",
       "    <tr>\n",
       "      <th>Actual</th>\n",
       "      <th></th>\n",
       "      <th></th>\n",
       "      <th></th>\n",
       "      <th></th>\n",
       "      <th></th>\n",
       "    </tr>\n",
       "  </thead>\n",
       "  <tbody>\n",
       "    <tr>\n",
       "      <th>1</th>\n",
       "      <td>11</td>\n",
       "      <td>39</td>\n",
       "      <td>127</td>\n",
       "      <td>34</td>\n",
       "      <td>35</td>\n",
       "    </tr>\n",
       "    <tr>\n",
       "      <th>2</th>\n",
       "      <td>10</td>\n",
       "      <td>33</td>\n",
       "      <td>251</td>\n",
       "      <td>94</td>\n",
       "      <td>77</td>\n",
       "    </tr>\n",
       "    <tr>\n",
       "      <th>3</th>\n",
       "      <td>11</td>\n",
       "      <td>33</td>\n",
       "      <td>338</td>\n",
       "      <td>279</td>\n",
       "      <td>186</td>\n",
       "    </tr>\n",
       "    <tr>\n",
       "      <th>4</th>\n",
       "      <td>2</td>\n",
       "      <td>8</td>\n",
       "      <td>142</td>\n",
       "      <td>510</td>\n",
       "      <td>811</td>\n",
       "    </tr>\n",
       "    <tr>\n",
       "      <th>5</th>\n",
       "      <td>5</td>\n",
       "      <td>9</td>\n",
       "      <td>50</td>\n",
       "      <td>395</td>\n",
       "      <td>3303</td>\n",
       "    </tr>\n",
       "  </tbody>\n",
       "</table>\n",
       "</div>"
      ],
      "text/plain": [
       "Predicted   1   2    3    4     5\n",
       "Actual                           \n",
       "1          11  39  127   34    35\n",
       "2          10  33  251   94    77\n",
       "3          11  33  338  279   186\n",
       "4           2   8  142  510   811\n",
       "5           5   9   50  395  3303"
      ]
     },
     "execution_count": 18,
     "metadata": {},
     "output_type": "execute_result"
    },
    {
     "data": {
      "image/png": "[encoded data removed]",
      "text/plain": [
       "<Figure size 432x288 with 2 Axes>"
      ]
     },
     "metadata": {
      "needs_background": "light"
     },
     "output_type": "display_data"
    }
   ],
   "source": [
    "#print the confusion matrix\n",
    "from sklearn.metrics import confusion_matrix\n",
    "cm = confusion_matrix(y_test, y_pred_class)\n",
    "\n",
    "cm_df = pd.DataFrame(cm,columns=mnb.classes_,index=mnb.classes_) \n",
    "cm_df.index.name = 'Actual'\n",
    "cm_df.columns.name = 'Predicted'\n",
    " \n",
    "sns.heatmap(cm_df, annot=True, cmap='RdYlGn_r', linewidths=0.5)\n",
    "cm_df\n"
   ]
  },
  {
   "cell_type": "markdown",
   "metadata": {},
   "source": [
    "<b>4. Display the HMM POS tagging on the first 4 rows of ‘Review Text’"
   ]
  },
  {
   "cell_type": "code",
   "execution_count": 19,
   "metadata": {},
   "outputs": [],
   "source": [
    "import nltk\n",
    "from nltk.corpus import treebank\n",
    "from nltk.tag import hmm"
   ]
  },
  {
   "cell_type": "code",
   "execution_count": 20,
   "metadata": {},
   "outputs": [
    {
     "data": {
      "text/plain": [
       "[('Pierre', 'NNP'),\n",
       " ('Vinken', 'NNP'),\n",
       " (',', ','),\n",
       " ('61', 'CD'),\n",
       " ('years', 'NNS'),\n",
       " ('old', 'JJ'),\n",
       " (',', ','),\n",
       " ('will', 'MD'),\n",
       " ('join', 'VB'),\n",
       " ('the', 'DT'),\n",
       " ('board', 'NN'),\n",
       " ('as', 'IN'),\n",
       " ('a', 'DT'),\n",
       " ('nonexecutive', 'JJ'),\n",
       " ('director', 'NN'),\n",
       " ('Nov.', 'NNP'),\n",
       " ('29', 'CD'),\n",
       " ('.', '.')]"
      ]
     },
     "execution_count": 20,
     "metadata": {},
     "output_type": "execute_result"
    }
   ],
   "source": [
    "train_data = treebank.tagged_sents()[:3000]\n",
    "train_data[0]"
   ]
  },
  {
   "cell_type": "code",
   "execution_count": 21,
   "metadata": {},
   "outputs": [],
   "source": [
    "tagger = nltk.HiddenMarkovModelTagger.train(train_data)"
   ]
  },
  {
   "cell_type": "code",
   "execution_count": 22,
   "metadata": {},
   "outputs": [
    {
     "name": "stdout",
     "output_type": "stream",
     "text": [
      "accuracy of the tagger: 0.8984243470753291\n",
      "\n"
     ]
    }
   ],
   "source": [
    "accu = tagger.evaluate(treebank.tagged_sents()[3000:])\n",
    "print(\"accuracy of the tagger: {}\\n\".format(accu))"
   ]
  },
  {
   "cell_type": "code",
   "execution_count": 23,
   "metadata": {},
   "outputs": [
    {
     "name": "stdout",
     "output_type": "stream",
     "text": [
      "Row : 1\n",
      "\n",
      "Actual labels:\n",
      "--------------\n",
      "absolutely wonderful silky sexy comfortable\n",
      "\n",
      "Predicted labels:\n",
      "-----------------\n",
      "[('absolutely', '``'), ('wonderful', 'PRP'), ('silky', 'MD'), ('sexy', 'VB'), ('comfortable', 'JJ')]\n",
      "\n",
      "\n",
      "Row : 2\n",
      "\n",
      "Actual labels:\n",
      "--------------\n",
      "love dress sooo pretty happened find store glad bc never would ordered online bc petite bought petite love length hits little knee would definitely true midi someone truly petite\n",
      "\n",
      "Predicted labels:\n",
      "-----------------\n",
      "[('love', '``'), ('dress', 'PRP'), ('sooo', 'VBP'), ('pretty', 'RB'), ('happened', 'MD'), ('find', 'VB'), ('store', '.'), ('glad', \"''\"), ('bc', 'VBZ'), ('never', 'RB'), ('would', 'MD'), ('ordered', 'VB'), ('online', '.'), ('bc', \"''\"), ('petite', 'PRP'), ('bought', 'VBD'), ('petite', 'VBN'), ('love', '-NONE-'), ('length', 'TO'), ('hits', 'VB'), ('little', 'JJ'), ('knee', 'NNS'), ('would', 'MD'), ('definitely', 'VB'), ('true', 'JJ'), ('midi', 'NN'), ('someone', 'NN'), ('truly', '.'), ('petite', \"''\")]\n",
      "\n",
      "\n",
      "Row : 3\n",
      "\n",
      "Actual labels:\n",
      "--------------\n",
      "high hopes dress really wanted work initially ordered petite small usual size found outrageously small small fact could zip reordered petite medium overall top half comfortable fit nicely bottom half tight layer several somewhat cheap net layers imo major design flaw net layer sewn directly zipper c\n",
      "\n",
      "Predicted labels:\n",
      "-----------------\n",
      "[('high', 'JJ'), ('hopes', 'NNS'), ('dress', 'VBP'), ('really', 'RB'), ('wanted', 'VBD'), ('work', 'NN'), ('initially', 'RB'), ('ordered', 'VBN'), ('petite', 'PRP$'), ('small', 'JJ'), ('usual', 'JJ'), ('size', 'NN'), ('found', 'VBD'), ('outrageously', 'DT'), ('small', 'JJ'), ('small', 'JJ'), ('fact', 'NN'), ('could', 'MD'), ('zip', 'VB'), ('reordered', 'PRP'), ('petite', 'MD'), ('medium', 'VB'), ('overall', 'JJ'), ('top', 'JJ'), ('half', 'NN'), ('comfortable', '.'), ('fit', \"''\"), ('nicely', 'VBZ'), ('bottom', 'JJ'), ('half', 'NN'), ('tight', 'IN'), ('layer', 'DT'), ('several', 'JJ'), ('somewhat', 'NNS'), ('cheap', 'VBP'), ('net', 'JJ'), ('layers', 'NNS'), ('imo', 'VBP'), ('major', 'JJ'), ('design', 'NN'), ('flaw', 'IN'), ('net', 'JJ'), ('layer', 'NN'), ('sewn', 'VBZ'), ('directly', 'RB'), ('zipper', '.'), ('c', \"''\")]\n",
      "\n",
      "\n",
      "Row : 4\n",
      "\n",
      "Actual labels:\n",
      "--------------\n",
      "love love love jumpsuit fun flirty fabulous every time wear get nothing great compliments\n",
      "\n",
      "Predicted labels:\n",
      "-----------------\n",
      "[('love', '``'), ('love', 'PRP'), ('love', 'VBP'), ('jumpsuit', 'VBN'), ('fun', '-NONE-'), ('flirty', 'TO'), ('fabulous', 'VB'), ('every', 'DT'), ('time', 'NN'), ('wear', 'MD'), ('get', 'VB'), ('nothing', 'DT'), ('great', 'JJ'), ('compliments', 'NNS')]\n",
      "\n",
      "\n"
     ]
    }
   ],
   "source": [
    "for key in range(4):\n",
    "    print(\"Row : {}\\n\".format(key+1))\n",
    "    print(\"Actual labels:\\n--------------\")\n",
    "    print(clothing_reviews['Review Text'][key])    \n",
    "    print()\n",
    "    print(\"Predicted labels:\\n-----------------\")    \n",
    "    print(tagger.tag(clothing_reviews['Review Text'][key].split()))\n",
    "    print(\"\\n\")"
   ]
  },
  {
   "cell_type": "markdown",
   "metadata": {},
   "source": [
    "<b>5. Parse the first 4 rows of ‘Review Text’ using Viterbi Parser [Use toy_pcfg1 and toy_pcfg2 to get the probabilistic context free grammars; use the PCFG suitable for each sentence]"
   ]
  },
  {
   "cell_type": "code",
   "execution_count": 24,
   "metadata": {},
   "outputs": [],
   "source": [
    "from nltk.grammar import toy_pcfg1, toy_pcfg2\n",
    "from nltk import ViterbiParser"
   ]
  },
  {
   "cell_type": "code",
   "execution_count": 25,
   "metadata": {},
   "outputs": [
    {
     "data": {
      "text/plain": [
       "22641"
      ]
     },
     "execution_count": 25,
     "metadata": {},
     "output_type": "execute_result"
    }
   ],
   "source": [
    "#count of rows\n",
    "row_lenght=len(clothing_reviews['Review Text'])\n",
    "row_lenght"
   ]
  },
  {
   "cell_type": "code",
   "execution_count": 26,
   "metadata": {},
   "outputs": [],
   "source": [
    "for key in range(row_lenght):\n",
    "    try:\n",
    "        tokens1 = clothing_reviews['Review Text'][key].split()\n",
    "        parser1 = ViterbiParser(toy_pcfg1)\n",
    "        for t1 in parser1.parse(tokens1):\n",
    "            print(t1)        \n",
    "        print(\"Row Number : {}\\n\".format(key+1))\n",
    "        print(\"Actual labels:\\n--------------\")\n",
    "        print(clothing_reviews['Review Text'][key])        \n",
    "    except:\n",
    "        continue"
   ]
  },
  {
   "cell_type": "code",
   "execution_count": 27,
   "metadata": {},
   "outputs": [],
   "source": [
    "for key in range(row_lenght):\n",
    "    try:\n",
    "        tokens2 = clothing_reviews['Review Text'][key].split()\n",
    "        parser2 = ViterbiParser(toy_pcfg2)\n",
    "        for t2 in parser2.parse(tokens2):\n",
    "            print(t2)        \n",
    "        print(\"Row Number : {}\\n\".format(key+1))\n",
    "        print(\"Actual labels:\\n--------------\")\n",
    "        print(clothing_reviews['Review Text'][key])        \n",
    "    except:\n",
    "        continue  "
   ]
  },
  {
   "cell_type": "markdown",
   "metadata": {},
   "source": [
    "Above mentioned code we are getting error :<br> \n",
    "ValueError: Grammar does not cover some of the input words: \"'absolutely', 'wonderful', 'silky', 'sexy', 'comfortable'\"."
   ]
  },
  {
   "cell_type": "code",
   "execution_count": 28,
   "metadata": {},
   "outputs": [],
   "source": [
    "tokens1 = [\"John saw the man with the telescope\", \n",
    "           \"I with the man saw my telescope\", \n",
    "           \"the man saw I with my telescope\", \n",
    "           \"I saw the man with my telescope\", \n",
    "           \"I with my telescope saw the man\"]\n",
    "parser1 = ViterbiParser(toy_pcfg1)"
   ]
  },
  {
   "cell_type": "code",
   "execution_count": 29,
   "metadata": {},
   "outputs": [
    {
     "name": "stdout",
     "output_type": "stream",
     "text": [
      "Sentence 1 : John saw the man with the telescope\n",
      "Predicted labels:\n",
      "(S\n",
      "  (NP John)\n",
      "  (VP\n",
      "    (V saw)\n",
      "    (NP\n",
      "      (NP (Det the) (N man))\n",
      "      (PP (P with) (NP (Det the) (N telescope)))))) (p=0.00027755)\n",
      "\n",
      "--------------\n",
      "Sentence 2 : I with the man saw my telescope\n",
      "Predicted labels:\n",
      "(S\n",
      "  (NP (NP I) (PP (P with) (NP (Det the) (N man))))\n",
      "  (VP (V saw) (NP (Det my) (N telescope)))) (p=0.000104081)\n",
      "\n",
      "--------------\n",
      "Sentence 3 : the man saw I with my telescope\n",
      "Predicted labels:\n",
      "(S\n",
      "  (NP (Det the) (N man))\n",
      "  (VP\n",
      "    (V saw)\n",
      "    (NP (NP I) (PP (P with) (NP (Det my) (N telescope)))))) (p=0.000104081)\n",
      "\n",
      "--------------\n",
      "Sentence 4 : I saw the man with my telescope\n",
      "Predicted labels:\n",
      "(S\n",
      "  (NP I)\n",
      "  (VP\n",
      "    (V saw)\n",
      "    (NP\n",
      "      (NP (Det the) (N man))\n",
      "      (PP (P with) (NP (Det my) (N telescope)))))) (p=0.000104081)\n",
      "\n",
      "--------------\n",
      "Sentence 5 : I with my telescope saw the man\n",
      "Predicted labels:\n",
      "(S\n",
      "  (NP (NP I) (PP (P with) (NP (Det my) (N telescope))))\n",
      "  (VP (V saw) (NP (Det the) (N man)))) (p=0.000104081)\n",
      "\n",
      "--------------\n"
     ]
    }
   ],
   "source": [
    "for key in range(len(tokens1)):\n",
    "    print(\"Sentence {} : {}\".format(key+1,tokens1[key]))\n",
    "    print(\"Predicted labels:\")\n",
    "    for t1 in parser1.parse(tokens1[key].split()):\n",
    "        print(t1)   \n",
    "    print(\"\\n--------------\")"
   ]
  },
  {
   "cell_type": "code",
   "execution_count": 30,
   "metadata": {},
   "outputs": [],
   "source": [
    "tokens2 = [\"Jack saw Bob with my cookie\", \n",
    "           \"a cookie saw the boy under my table\", \n",
    "           \"the boy saw my table under a cookie\", \n",
    "           \"the boy under my table saw a cookie\", \n",
    "           \"a cookie under my table saw the boy\"]\n",
    "parser2 = ViterbiParser(toy_pcfg2)"
   ]
  },
  {
   "cell_type": "code",
   "execution_count": 31,
   "metadata": {},
   "outputs": [
    {
     "name": "stdout",
     "output_type": "stream",
     "text": [
      "Sentence 1 : Jack saw Bob with my cookie\n",
      "Predicted labels:\n",
      "(S\n",
      "  (NP (Name Jack))\n",
      "  (VP\n",
      "    (V saw)\n",
      "    (NP\n",
      "      (NP (Name Bob))\n",
      "      (PP (P with) (NP (Det my) (N cookie)))))) (p=6.31607e-06)\n",
      "\n",
      "--------------\n",
      "Sentence 2 : a cookie saw the boy under my table\n",
      "Predicted labels:\n",
      "(S\n",
      "  (NP (Det a) (N cookie))\n",
      "  (VP\n",
      "    (V saw)\n",
      "    (NP\n",
      "      (NP (Det the) (N boy))\n",
      "      (PP (P under) (NP (Det my) (N table)))))) (p=6.30478e-08)\n",
      "\n",
      "--------------\n",
      "Sentence 3 : the boy saw my table under a cookie\n",
      "Predicted labels:\n",
      "(S\n",
      "  (NP (Det the) (N boy))\n",
      "  (VP\n",
      "    (V saw)\n",
      "    (NP\n",
      "      (NP (Det my) (N table))\n",
      "      (PP (P under) (NP (Det a) (N cookie)))))) (p=6.30478e-08)\n",
      "\n",
      "--------------\n",
      "Sentence 4 : the boy under my table saw a cookie\n",
      "Predicted labels:\n",
      "(S\n",
      "  (NP\n",
      "    (NP (Det the) (N boy))\n",
      "    (PP (P under) (NP (Det my) (N table))))\n",
      "  (VP (V saw) (NP (Det a) (N cookie)))) (p=6.30478e-08)\n",
      "\n",
      "--------------\n",
      "Sentence 5 : a cookie under my table saw the boy\n",
      "Predicted labels:\n",
      "(S\n",
      "  (NP\n",
      "    (NP (Det a) (N cookie))\n",
      "    (PP (P under) (NP (Det my) (N table))))\n",
      "  (VP (V saw) (NP (Det the) (N boy)))) (p=6.30478e-08)\n",
      "\n",
      "--------------\n"
     ]
    }
   ],
   "source": [
    "for key in range(len(tokens2)):\n",
    "    print(\"Sentence {} : {}\".format(key+1,tokens2[key]))\n",
    "    print(\"Predicted labels:\")\n",
    "    for t2 in parser2.parse(tokens2[key].split()):\n",
    "        print(t2)   \n",
    "    print(\"\\n--------------\")"
   ]
  }
 ],
 "metadata": {
  "kernelspec": {
   "display_name": "Python 3",
   "language": "python",
   "name": "python3"
  },
  "language_info": {
   "codemirror_mode": {
    "name": "ipython",
    "version": 3
   },
   "file_extension": ".py",
   "mimetype": "text/x-python",
   "name": "python",
   "nbconvert_exporter": "python",
   "pygments_lexer": "ipython3",
   "version": "3.7.7"
  }
 },
 "nbformat": 4,
 "nbformat_minor": 2
}
